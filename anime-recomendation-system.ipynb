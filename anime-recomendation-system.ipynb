{
 "cells": [
  {
   "cell_type": "markdown",
   "metadata": {},
   "source": [
    "## RECOMENDATION SYSTEM"
   ]
  },
  {
   "cell_type": "code",
   "execution_count": 4,
   "metadata": {},
   "outputs": [],
   "source": [
    "import pandas as pd \n",
    "import numpy as np\n",
    "import matplotlib.pyplot as mp\n",
    "import seaborn as sn\n",
    "from sklearn.impute import SimpleImputer\n",
    "from sklearn.compose import ColumnTransformer\n",
    "\n",
    "\n"
   ]
  },
  {
   "cell_type": "markdown",
   "metadata": {},
   "source": [
    "CONVERTED THE CSV INTO DATAFRAME"
   ]
  },
  {
   "cell_type": "code",
   "execution_count": 5,
   "metadata": {},
   "outputs": [],
   "source": [
    "df=pd.read_csv('Anime.csv')"
   ]
  },
  {
   "cell_type": "code",
   "execution_count": 6,
   "metadata": {},
   "outputs": [],
   "source": [
    "df=pd.DataFrame(df)"
   ]
  },
  {
   "cell_type": "code",
   "execution_count": 7,
   "metadata": {},
   "outputs": [
    {
     "data": {
      "text/html": [
       "<div>\n",
       "<style scoped>\n",
       "    .dataframe tbody tr th:only-of-type {\n",
       "        vertical-align: middle;\n",
       "    }\n",
       "\n",
       "    .dataframe tbody tr th {\n",
       "        vertical-align: top;\n",
       "    }\n",
       "\n",
       "    .dataframe thead th {\n",
       "        text-align: right;\n",
       "    }\n",
       "</style>\n",
       "<table border=\"1\" class=\"dataframe\">\n",
       "  <thead>\n",
       "    <tr style=\"text-align: right;\">\n",
       "      <th></th>\n",
       "      <th>ID</th>\n",
       "      <th>Title</th>\n",
       "      <th>Synonyms</th>\n",
       "      <th>Japanese</th>\n",
       "      <th>English</th>\n",
       "      <th>Synopsis</th>\n",
       "      <th>Type</th>\n",
       "      <th>Episodes</th>\n",
       "      <th>Status</th>\n",
       "      <th>Start_Aired</th>\n",
       "      <th>End_Aired</th>\n",
       "      <th>Premiered</th>\n",
       "      <th>Broadcast</th>\n",
       "      <th>Producers</th>\n",
       "      <th>Licensors</th>\n",
       "      <th>Studios</th>\n",
       "      <th>Source</th>\n",
       "      <th>Genres</th>\n",
       "      <th>Themes</th>\n",
       "      <th>Demographics</th>\n",
       "      <th>Duration_Minutes</th>\n",
       "      <th>Rating</th>\n",
       "      <th>Score</th>\n",
       "      <th>Scored_Users</th>\n",
       "      <th>Ranked</th>\n",
       "      <th>Popularity</th>\n",
       "      <th>Members</th>\n",
       "      <th>Favorites</th>\n",
       "    </tr>\n",
       "  </thead>\n",
       "  <tbody>\n",
       "    <tr>\n",
       "      <th>0</th>\n",
       "      <td>16498</td>\n",
       "      <td>Shingeki no Kyojin</td>\n",
       "      <td>AoT, SnK</td>\n",
       "      <td>進撃の巨人</td>\n",
       "      <td>Attack on Titan</td>\n",
       "      <td>Centuries ago, mankind was slaughtered to near...</td>\n",
       "      <td>TV</td>\n",
       "      <td>25.0</td>\n",
       "      <td>Finished Airing</td>\n",
       "      <td>Apr 7, 2013</td>\n",
       "      <td>Sep 29, 2013</td>\n",
       "      <td>Spring 2013</td>\n",
       "      <td>Sundays at 0158 (JST)</td>\n",
       "      <td>Production I.G, Dentsu, Mainichi Broadcasting ...</td>\n",
       "      <td>Funimation</td>\n",
       "      <td>Wit Studio</td>\n",
       "      <td>Manga</td>\n",
       "      <td>Action, Drama</td>\n",
       "      <td>Gore, Military, Survival</td>\n",
       "      <td>Shounen</td>\n",
       "      <td>24.0</td>\n",
       "      <td>R - 17+ (violence &amp; profanity)</td>\n",
       "      <td>8.531</td>\n",
       "      <td>519803.0</td>\n",
       "      <td>1002.0</td>\n",
       "      <td>1</td>\n",
       "      <td>3524109</td>\n",
       "      <td>155695</td>\n",
       "    </tr>\n",
       "    <tr>\n",
       "      <th>1</th>\n",
       "      <td>1535</td>\n",
       "      <td>Death Note</td>\n",
       "      <td>DN</td>\n",
       "      <td>デスノート</td>\n",
       "      <td>Death Note</td>\n",
       "      <td>Brutal murders, petty thefts, and senseless vi...</td>\n",
       "      <td>TV</td>\n",
       "      <td>37.0</td>\n",
       "      <td>Finished Airing</td>\n",
       "      <td>Oct 4, 2006</td>\n",
       "      <td>Jun 27, 2007</td>\n",
       "      <td>Fall 2006</td>\n",
       "      <td>Wednesdays at 0056 (JST)</td>\n",
       "      <td>VAP, Konami, Ashi Productions, Nippon Televisi...</td>\n",
       "      <td>VIZ Media</td>\n",
       "      <td>Madhouse</td>\n",
       "      <td>Manga</td>\n",
       "      <td>Supernatural, Suspense</td>\n",
       "      <td>Psychological</td>\n",
       "      <td>Shounen</td>\n",
       "      <td>23.0</td>\n",
       "      <td>R - 17+ (violence &amp; profanity)</td>\n",
       "      <td>8.621</td>\n",
       "      <td>485487.0</td>\n",
       "      <td>732.0</td>\n",
       "      <td>2</td>\n",
       "      <td>3504535</td>\n",
       "      <td>159701</td>\n",
       "    </tr>\n",
       "    <tr>\n",
       "      <th>2</th>\n",
       "      <td>5114</td>\n",
       "      <td>Fullmetal Alchemist: Brotherhood</td>\n",
       "      <td>Hagane no Renkinjutsushi Fullmetal Alchemist, ...</td>\n",
       "      <td>鋼の錬金術師 FULLMETAL ALCHEMIST</td>\n",
       "      <td>Fullmetal Alchemist Brotherhood</td>\n",
       "      <td>After a horrific alchemy experiment goes wrong...</td>\n",
       "      <td>TV</td>\n",
       "      <td>64.0</td>\n",
       "      <td>Finished Airing</td>\n",
       "      <td>Apr 5, 2009</td>\n",
       "      <td>Jul 4, 2010</td>\n",
       "      <td>Spring 2009</td>\n",
       "      <td>Sundays at 1700 (JST)</td>\n",
       "      <td>Aniplex, Square Enix, Mainichi Broadcasting Sy...</td>\n",
       "      <td>Funimation, Aniplex of America</td>\n",
       "      <td>Bones</td>\n",
       "      <td>Manga</td>\n",
       "      <td>Action, Adventure, Drama, Fantasy</td>\n",
       "      <td>Military</td>\n",
       "      <td>Shounen</td>\n",
       "      <td>24.0</td>\n",
       "      <td>R - 17+ (violence &amp; profanity)</td>\n",
       "      <td>9.131</td>\n",
       "      <td>900398.0</td>\n",
       "      <td>12.0</td>\n",
       "      <td>3</td>\n",
       "      <td>2978455</td>\n",
       "      <td>207772</td>\n",
       "    </tr>\n",
       "  </tbody>\n",
       "</table>\n",
       "</div>"
      ],
      "text/plain": [
       "      ID                             Title  \\\n",
       "0  16498                Shingeki no Kyojin   \n",
       "1   1535                        Death Note   \n",
       "2   5114  Fullmetal Alchemist: Brotherhood   \n",
       "\n",
       "                                            Synonyms  \\\n",
       "0                                           AoT, SnK   \n",
       "1                                                 DN   \n",
       "2  Hagane no Renkinjutsushi Fullmetal Alchemist, ...   \n",
       "\n",
       "                     Japanese                          English  \\\n",
       "0                       進撃の巨人                  Attack on Titan   \n",
       "1                       デスノート                       Death Note   \n",
       "2  鋼の錬金術師 FULLMETAL ALCHEMIST  Fullmetal Alchemist Brotherhood   \n",
       "\n",
       "                                            Synopsis Type  Episodes  \\\n",
       "0  Centuries ago, mankind was slaughtered to near...   TV      25.0   \n",
       "1  Brutal murders, petty thefts, and senseless vi...   TV      37.0   \n",
       "2  After a horrific alchemy experiment goes wrong...   TV      64.0   \n",
       "\n",
       "            Status  Start_Aired     End_Aired    Premiered  \\\n",
       "0  Finished Airing  Apr 7, 2013  Sep 29, 2013  Spring 2013   \n",
       "1  Finished Airing  Oct 4, 2006  Jun 27, 2007    Fall 2006   \n",
       "2  Finished Airing  Apr 5, 2009   Jul 4, 2010  Spring 2009   \n",
       "\n",
       "                  Broadcast  \\\n",
       "0     Sundays at 0158 (JST)   \n",
       "1  Wednesdays at 0056 (JST)   \n",
       "2     Sundays at 1700 (JST)   \n",
       "\n",
       "                                           Producers  \\\n",
       "0  Production I.G, Dentsu, Mainichi Broadcasting ...   \n",
       "1  VAP, Konami, Ashi Productions, Nippon Televisi...   \n",
       "2  Aniplex, Square Enix, Mainichi Broadcasting Sy...   \n",
       "\n",
       "                        Licensors     Studios Source  \\\n",
       "0                      Funimation  Wit Studio  Manga   \n",
       "1                       VIZ Media    Madhouse  Manga   \n",
       "2  Funimation, Aniplex of America       Bones  Manga   \n",
       "\n",
       "                              Genres                    Themes Demographics  \\\n",
       "0                      Action, Drama  Gore, Military, Survival      Shounen   \n",
       "1             Supernatural, Suspense             Psychological      Shounen   \n",
       "2  Action, Adventure, Drama, Fantasy                  Military      Shounen   \n",
       "\n",
       "   Duration_Minutes                          Rating  Score  Scored_Users  \\\n",
       "0              24.0  R - 17+ (violence & profanity)  8.531      519803.0   \n",
       "1              23.0  R - 17+ (violence & profanity)  8.621      485487.0   \n",
       "2              24.0  R - 17+ (violence & profanity)  9.131      900398.0   \n",
       "\n",
       "   Ranked  Popularity  Members  Favorites  \n",
       "0  1002.0           1  3524109     155695  \n",
       "1   732.0           2  3504535     159701  \n",
       "2    12.0           3  2978455     207772  "
      ]
     },
     "execution_count": 7,
     "metadata": {},
     "output_type": "execute_result"
    }
   ],
   "source": [
    "pd.set_option('display.max_columns',28)\n",
    "df.head(3)"
   ]
  },
  {
   "cell_type": "markdown",
   "metadata": {},
   "source": [
    "CHECKED ANY NULL VALUES PRESENT IN IT"
   ]
  },
  {
   "cell_type": "code",
   "execution_count": 8,
   "metadata": {},
   "outputs": [],
   "source": [
    "df.dropna(inplace=True)"
   ]
  },
  {
   "cell_type": "code",
   "execution_count": 9,
   "metadata": {},
   "outputs": [
    {
     "data": {
      "text/plain": [
       "(12937, 28)"
      ]
     },
     "execution_count": 9,
     "metadata": {},
     "output_type": "execute_result"
    }
   ],
   "source": [
    "df.shape"
   ]
  },
  {
   "cell_type": "code",
   "execution_count": 10,
   "metadata": {},
   "outputs": [
    {
     "data": {
      "text/plain": [
       "ID                  0\n",
       "Title               0\n",
       "Synonyms            0\n",
       "Japanese            0\n",
       "English             0\n",
       "Synopsis            0\n",
       "Type                0\n",
       "Episodes            0\n",
       "Status              0\n",
       "Start_Aired         0\n",
       "End_Aired           0\n",
       "Premiered           0\n",
       "Broadcast           0\n",
       "Producers           0\n",
       "Licensors           0\n",
       "Studios             0\n",
       "Source              0\n",
       "Genres              0\n",
       "Themes              0\n",
       "Demographics        0\n",
       "Duration_Minutes    0\n",
       "Rating              0\n",
       "Score               0\n",
       "Scored_Users        0\n",
       "Ranked              0\n",
       "Popularity          0\n",
       "Members             0\n",
       "Favorites           0\n",
       "dtype: int64"
      ]
     },
     "execution_count": 10,
     "metadata": {},
     "output_type": "execute_result"
    }
   ],
   "source": [
    "df.isnull().sum()"
   ]
  },
  {
   "cell_type": "markdown",
   "metadata": {},
   "source": [
    "STATISTICAL MEASURE OF OUR DATASET"
   ]
  },
  {
   "cell_type": "code",
   "execution_count": 11,
   "metadata": {},
   "outputs": [
    {
     "data": {
      "text/html": [
       "<div>\n",
       "<style scoped>\n",
       "    .dataframe tbody tr th:only-of-type {\n",
       "        vertical-align: middle;\n",
       "    }\n",
       "\n",
       "    .dataframe tbody tr th {\n",
       "        vertical-align: top;\n",
       "    }\n",
       "\n",
       "    .dataframe thead th {\n",
       "        text-align: right;\n",
       "    }\n",
       "</style>\n",
       "<table border=\"1\" class=\"dataframe\">\n",
       "  <thead>\n",
       "    <tr style=\"text-align: right;\">\n",
       "      <th></th>\n",
       "      <th>ID</th>\n",
       "      <th>Episodes</th>\n",
       "      <th>Duration_Minutes</th>\n",
       "      <th>Score</th>\n",
       "      <th>Scored_Users</th>\n",
       "      <th>Ranked</th>\n",
       "      <th>Popularity</th>\n",
       "      <th>Members</th>\n",
       "      <th>Favorites</th>\n",
       "    </tr>\n",
       "  </thead>\n",
       "  <tbody>\n",
       "    <tr>\n",
       "      <th>count</th>\n",
       "      <td>12937.000000</td>\n",
       "      <td>12937.000000</td>\n",
       "      <td>12937.000000</td>\n",
       "      <td>12937.000000</td>\n",
       "      <td>12937.000000</td>\n",
       "      <td>12937.000000</td>\n",
       "      <td>12937.000000</td>\n",
       "      <td>1.293700e+04</td>\n",
       "      <td>12937.000000</td>\n",
       "    </tr>\n",
       "    <tr>\n",
       "      <th>mean</th>\n",
       "      <td>20958.639561</td>\n",
       "      <td>12.519054</td>\n",
       "      <td>25.919379</td>\n",
       "      <td>6.462104</td>\n",
       "      <td>29411.286852</td>\n",
       "      <td>65462.073433</td>\n",
       "      <td>7563.353405</td>\n",
       "      <td>6.326947e+04</td>\n",
       "      <td>741.939862</td>\n",
       "    </tr>\n",
       "    <tr>\n",
       "      <th>std</th>\n",
       "      <td>16074.799263</td>\n",
       "      <td>52.121692</td>\n",
       "      <td>26.241863</td>\n",
       "      <td>0.925257</td>\n",
       "      <td>89649.096187</td>\n",
       "      <td>37915.354758</td>\n",
       "      <td>4743.123821</td>\n",
       "      <td>1.969991e+05</td>\n",
       "      <td>5442.203794</td>\n",
       "    </tr>\n",
       "    <tr>\n",
       "      <th>min</th>\n",
       "      <td>1.000000</td>\n",
       "      <td>1.000000</td>\n",
       "      <td>1.000000</td>\n",
       "      <td>1.841000</td>\n",
       "      <td>101.000000</td>\n",
       "      <td>12.000000</td>\n",
       "      <td>1.000000</td>\n",
       "      <td>1.720000e+02</td>\n",
       "      <td>0.000000</td>\n",
       "    </tr>\n",
       "    <tr>\n",
       "      <th>25%</th>\n",
       "      <td>4719.000000</td>\n",
       "      <td>1.000000</td>\n",
       "      <td>6.000000</td>\n",
       "      <td>5.831000</td>\n",
       "      <td>383.000000</td>\n",
       "      <td>32602.000000</td>\n",
       "      <td>3338.000000</td>\n",
       "      <td>1.136000e+03</td>\n",
       "      <td>1.000000</td>\n",
       "    </tr>\n",
       "    <tr>\n",
       "      <th>50%</th>\n",
       "      <td>19669.000000</td>\n",
       "      <td>2.000000</td>\n",
       "      <td>23.000000</td>\n",
       "      <td>6.481000</td>\n",
       "      <td>1982.000000</td>\n",
       "      <td>65322.000000</td>\n",
       "      <td>7364.000000</td>\n",
       "      <td>5.295000e+03</td>\n",
       "      <td>7.000000</td>\n",
       "    </tr>\n",
       "    <tr>\n",
       "      <th>75%</th>\n",
       "      <td>35935.000000</td>\n",
       "      <td>12.000000</td>\n",
       "      <td>26.000000</td>\n",
       "      <td>7.141000</td>\n",
       "      <td>14512.000000</td>\n",
       "      <td>98402.000000</td>\n",
       "      <td>11570.000000</td>\n",
       "      <td>3.439400e+04</td>\n",
       "      <td>71.000000</td>\n",
       "    </tr>\n",
       "    <tr>\n",
       "      <th>max</th>\n",
       "      <td>53075.000000</td>\n",
       "      <td>3057.000000</td>\n",
       "      <td>168.000000</td>\n",
       "      <td>9.131000</td>\n",
       "      <td>997243.000000</td>\n",
       "      <td>131202.000000</td>\n",
       "      <td>18014.000000</td>\n",
       "      <td>3.524109e+06</td>\n",
       "      <td>207772.000000</td>\n",
       "    </tr>\n",
       "  </tbody>\n",
       "</table>\n",
       "</div>"
      ],
      "text/plain": [
       "                 ID      Episodes  Duration_Minutes         Score  \\\n",
       "count  12937.000000  12937.000000      12937.000000  12937.000000   \n",
       "mean   20958.639561     12.519054         25.919379      6.462104   \n",
       "std    16074.799263     52.121692         26.241863      0.925257   \n",
       "min        1.000000      1.000000          1.000000      1.841000   \n",
       "25%     4719.000000      1.000000          6.000000      5.831000   \n",
       "50%    19669.000000      2.000000         23.000000      6.481000   \n",
       "75%    35935.000000     12.000000         26.000000      7.141000   \n",
       "max    53075.000000   3057.000000        168.000000      9.131000   \n",
       "\n",
       "        Scored_Users         Ranked    Popularity       Members      Favorites  \n",
       "count   12937.000000   12937.000000  12937.000000  1.293700e+04   12937.000000  \n",
       "mean    29411.286852   65462.073433   7563.353405  6.326947e+04     741.939862  \n",
       "std     89649.096187   37915.354758   4743.123821  1.969991e+05    5442.203794  \n",
       "min       101.000000      12.000000      1.000000  1.720000e+02       0.000000  \n",
       "25%       383.000000   32602.000000   3338.000000  1.136000e+03       1.000000  \n",
       "50%      1982.000000   65322.000000   7364.000000  5.295000e+03       7.000000  \n",
       "75%     14512.000000   98402.000000  11570.000000  3.439400e+04      71.000000  \n",
       "max    997243.000000  131202.000000  18014.000000  3.524109e+06  207772.000000  "
      ]
     },
     "execution_count": 11,
     "metadata": {},
     "output_type": "execute_result"
    }
   ],
   "source": [
    "df.describe()"
   ]
  },
  {
   "cell_type": "markdown",
   "metadata": {},
   "source": [
    "CHECKED IF ANY DUPLICATES IS PRESENT IN OUR DATASET"
   ]
  },
  {
   "cell_type": "code",
   "execution_count": 12,
   "metadata": {},
   "outputs": [
    {
     "data": {
      "text/plain": [
       "ID                  False\n",
       "Title                True\n",
       "Synonyms             True\n",
       "Japanese             True\n",
       "English              True\n",
       "Synopsis             True\n",
       "Type                 True\n",
       "Episodes             True\n",
       "Status               True\n",
       "Start_Aired          True\n",
       "End_Aired            True\n",
       "Premiered            True\n",
       "Broadcast            True\n",
       "Producers            True\n",
       "Licensors            True\n",
       "Studios              True\n",
       "Source               True\n",
       "Genres               True\n",
       "Themes               True\n",
       "Demographics         True\n",
       "Duration_Minutes     True\n",
       "Rating               True\n",
       "Score                True\n",
       "Scored_Users         True\n",
       "Ranked               True\n",
       "Popularity           True\n",
       "Members              True\n",
       "Favorites            True\n",
       "dtype: bool"
      ]
     },
     "execution_count": 12,
     "metadata": {},
     "output_type": "execute_result"
    }
   ],
   "source": [
    "df.any().duplicated()"
   ]
  },
  {
   "cell_type": "code",
   "execution_count": 13,
   "metadata": {},
   "outputs": [
    {
     "name": "stdout",
     "output_type": "stream",
     "text": [
      "<class 'pandas.core.frame.DataFrame'>\n",
      "Index: 12937 entries, 0 to 17988\n",
      "Data columns (total 28 columns):\n",
      " #   Column            Non-Null Count  Dtype  \n",
      "---  ------            --------------  -----  \n",
      " 0   ID                12937 non-null  int64  \n",
      " 1   Title             12937 non-null  object \n",
      " 2   Synonyms          12937 non-null  object \n",
      " 3   Japanese          12937 non-null  object \n",
      " 4   English           12937 non-null  object \n",
      " 5   Synopsis          12937 non-null  object \n",
      " 6   Type              12937 non-null  object \n",
      " 7   Episodes          12937 non-null  float64\n",
      " 8   Status            12937 non-null  object \n",
      " 9   Start_Aired       12937 non-null  object \n",
      " 10  End_Aired         12937 non-null  object \n",
      " 11  Premiered         12937 non-null  object \n",
      " 12  Broadcast         12937 non-null  object \n",
      " 13  Producers         12937 non-null  object \n",
      " 14  Licensors         12937 non-null  object \n",
      " 15  Studios           12937 non-null  object \n",
      " 16  Source            12937 non-null  object \n",
      " 17  Genres            12937 non-null  object \n",
      " 18  Themes            12937 non-null  object \n",
      " 19  Demographics      12937 non-null  object \n",
      " 20  Duration_Minutes  12937 non-null  float64\n",
      " 21  Rating            12937 non-null  object \n",
      " 22  Score             12937 non-null  float64\n",
      " 23  Scored_Users      12937 non-null  float64\n",
      " 24  Ranked            12937 non-null  float64\n",
      " 25  Popularity        12937 non-null  int64  \n",
      " 26  Members           12937 non-null  int64  \n",
      " 27  Favorites         12937 non-null  int64  \n",
      "dtypes: float64(5), int64(4), object(19)\n",
      "memory usage: 2.9+ MB\n"
     ]
    }
   ],
   "source": [
    "df.info()"
   ]
  },
  {
   "cell_type": "code",
   "execution_count": 14,
   "metadata": {},
   "outputs": [
    {
     "data": {
      "text/plain": [
       "dtype('float64')"
      ]
     },
     "execution_count": 14,
     "metadata": {},
     "output_type": "execute_result"
    }
   ],
   "source": [
    "df['Score'].dtype"
   ]
  },
  {
   "cell_type": "code",
   "execution_count": 15,
   "metadata": {},
   "outputs": [
    {
     "data": {
      "text/plain": [
       "Index(['ID', 'Title', 'Synonyms', 'Japanese', 'English', 'Synopsis', 'Type',\n",
       "       'Episodes', 'Status', 'Start_Aired', 'End_Aired', 'Premiered',\n",
       "       'Broadcast', 'Producers', 'Licensors', 'Studios', 'Source', 'Genres',\n",
       "       'Themes', 'Demographics', 'Duration_Minutes', 'Rating', 'Score',\n",
       "       'Scored_Users', 'Ranked', 'Popularity', 'Members', 'Favorites'],\n",
       "      dtype='object')"
      ]
     },
     "execution_count": 15,
     "metadata": {},
     "output_type": "execute_result"
    }
   ],
   "source": [
    "df.columns"
   ]
  },
  {
   "cell_type": "code",
   "execution_count": 16,
   "metadata": {},
   "outputs": [
    {
     "data": {
      "text/html": [
       "<div>\n",
       "<style scoped>\n",
       "    .dataframe tbody tr th:only-of-type {\n",
       "        vertical-align: middle;\n",
       "    }\n",
       "\n",
       "    .dataframe tbody tr th {\n",
       "        vertical-align: top;\n",
       "    }\n",
       "\n",
       "    .dataframe thead th {\n",
       "        text-align: right;\n",
       "    }\n",
       "</style>\n",
       "<table border=\"1\" class=\"dataframe\">\n",
       "  <thead>\n",
       "    <tr style=\"text-align: right;\">\n",
       "      <th></th>\n",
       "      <th>ID</th>\n",
       "      <th>Title</th>\n",
       "      <th>Synonyms</th>\n",
       "      <th>Japanese</th>\n",
       "      <th>English</th>\n",
       "      <th>Synopsis</th>\n",
       "      <th>Type</th>\n",
       "      <th>Episodes</th>\n",
       "      <th>Status</th>\n",
       "      <th>Start_Aired</th>\n",
       "      <th>End_Aired</th>\n",
       "      <th>Premiered</th>\n",
       "      <th>Broadcast</th>\n",
       "      <th>Producers</th>\n",
       "      <th>Licensors</th>\n",
       "      <th>Studios</th>\n",
       "      <th>Source</th>\n",
       "      <th>Genres</th>\n",
       "      <th>Themes</th>\n",
       "      <th>Demographics</th>\n",
       "      <th>Duration_Minutes</th>\n",
       "      <th>Rating</th>\n",
       "      <th>Score</th>\n",
       "      <th>Scored_Users</th>\n",
       "      <th>Ranked</th>\n",
       "      <th>Popularity</th>\n",
       "      <th>Members</th>\n",
       "      <th>Favorites</th>\n",
       "    </tr>\n",
       "  </thead>\n",
       "  <tbody>\n",
       "    <tr>\n",
       "      <th>0</th>\n",
       "      <td>16498</td>\n",
       "      <td>Shingeki no Kyojin</td>\n",
       "      <td>AoT, SnK</td>\n",
       "      <td>進撃の巨人</td>\n",
       "      <td>Attack on Titan</td>\n",
       "      <td>Centuries ago, mankind was slaughtered to near...</td>\n",
       "      <td>TV</td>\n",
       "      <td>25.0</td>\n",
       "      <td>Finished Airing</td>\n",
       "      <td>Apr 7, 2013</td>\n",
       "      <td>Sep 29, 2013</td>\n",
       "      <td>Spring 2013</td>\n",
       "      <td>Sundays at 0158 (JST)</td>\n",
       "      <td>Production I.G, Dentsu, Mainichi Broadcasting ...</td>\n",
       "      <td>Funimation</td>\n",
       "      <td>Wit Studio</td>\n",
       "      <td>Manga</td>\n",
       "      <td>Action, Drama</td>\n",
       "      <td>Gore, Military, Survival</td>\n",
       "      <td>Shounen</td>\n",
       "      <td>24.0</td>\n",
       "      <td>R - 17+ (violence &amp; profanity)</td>\n",
       "      <td>8.531</td>\n",
       "      <td>519803.0</td>\n",
       "      <td>1002.0</td>\n",
       "      <td>1</td>\n",
       "      <td>3524109</td>\n",
       "      <td>155695</td>\n",
       "    </tr>\n",
       "    <tr>\n",
       "      <th>1</th>\n",
       "      <td>1535</td>\n",
       "      <td>Death Note</td>\n",
       "      <td>DN</td>\n",
       "      <td>デスノート</td>\n",
       "      <td>Death Note</td>\n",
       "      <td>Brutal murders, petty thefts, and senseless vi...</td>\n",
       "      <td>TV</td>\n",
       "      <td>37.0</td>\n",
       "      <td>Finished Airing</td>\n",
       "      <td>Oct 4, 2006</td>\n",
       "      <td>Jun 27, 2007</td>\n",
       "      <td>Fall 2006</td>\n",
       "      <td>Wednesdays at 0056 (JST)</td>\n",
       "      <td>VAP, Konami, Ashi Productions, Nippon Televisi...</td>\n",
       "      <td>VIZ Media</td>\n",
       "      <td>Madhouse</td>\n",
       "      <td>Manga</td>\n",
       "      <td>Supernatural, Suspense</td>\n",
       "      <td>Psychological</td>\n",
       "      <td>Shounen</td>\n",
       "      <td>23.0</td>\n",
       "      <td>R - 17+ (violence &amp; profanity)</td>\n",
       "      <td>8.621</td>\n",
       "      <td>485487.0</td>\n",
       "      <td>732.0</td>\n",
       "      <td>2</td>\n",
       "      <td>3504535</td>\n",
       "      <td>159701</td>\n",
       "    </tr>\n",
       "    <tr>\n",
       "      <th>2</th>\n",
       "      <td>5114</td>\n",
       "      <td>Fullmetal Alchemist: Brotherhood</td>\n",
       "      <td>Hagane no Renkinjutsushi Fullmetal Alchemist, ...</td>\n",
       "      <td>鋼の錬金術師 FULLMETAL ALCHEMIST</td>\n",
       "      <td>Fullmetal Alchemist Brotherhood</td>\n",
       "      <td>After a horrific alchemy experiment goes wrong...</td>\n",
       "      <td>TV</td>\n",
       "      <td>64.0</td>\n",
       "      <td>Finished Airing</td>\n",
       "      <td>Apr 5, 2009</td>\n",
       "      <td>Jul 4, 2010</td>\n",
       "      <td>Spring 2009</td>\n",
       "      <td>Sundays at 1700 (JST)</td>\n",
       "      <td>Aniplex, Square Enix, Mainichi Broadcasting Sy...</td>\n",
       "      <td>Funimation, Aniplex of America</td>\n",
       "      <td>Bones</td>\n",
       "      <td>Manga</td>\n",
       "      <td>Action, Adventure, Drama, Fantasy</td>\n",
       "      <td>Military</td>\n",
       "      <td>Shounen</td>\n",
       "      <td>24.0</td>\n",
       "      <td>R - 17+ (violence &amp; profanity)</td>\n",
       "      <td>9.131</td>\n",
       "      <td>900398.0</td>\n",
       "      <td>12.0</td>\n",
       "      <td>3</td>\n",
       "      <td>2978455</td>\n",
       "      <td>207772</td>\n",
       "    </tr>\n",
       "  </tbody>\n",
       "</table>\n",
       "</div>"
      ],
      "text/plain": [
       "      ID                             Title  \\\n",
       "0  16498                Shingeki no Kyojin   \n",
       "1   1535                        Death Note   \n",
       "2   5114  Fullmetal Alchemist: Brotherhood   \n",
       "\n",
       "                                            Synonyms  \\\n",
       "0                                           AoT, SnK   \n",
       "1                                                 DN   \n",
       "2  Hagane no Renkinjutsushi Fullmetal Alchemist, ...   \n",
       "\n",
       "                     Japanese                          English  \\\n",
       "0                       進撃の巨人                  Attack on Titan   \n",
       "1                       デスノート                       Death Note   \n",
       "2  鋼の錬金術師 FULLMETAL ALCHEMIST  Fullmetal Alchemist Brotherhood   \n",
       "\n",
       "                                            Synopsis Type  Episodes  \\\n",
       "0  Centuries ago, mankind was slaughtered to near...   TV      25.0   \n",
       "1  Brutal murders, petty thefts, and senseless vi...   TV      37.0   \n",
       "2  After a horrific alchemy experiment goes wrong...   TV      64.0   \n",
       "\n",
       "            Status  Start_Aired     End_Aired    Premiered  \\\n",
       "0  Finished Airing  Apr 7, 2013  Sep 29, 2013  Spring 2013   \n",
       "1  Finished Airing  Oct 4, 2006  Jun 27, 2007    Fall 2006   \n",
       "2  Finished Airing  Apr 5, 2009   Jul 4, 2010  Spring 2009   \n",
       "\n",
       "                  Broadcast  \\\n",
       "0     Sundays at 0158 (JST)   \n",
       "1  Wednesdays at 0056 (JST)   \n",
       "2     Sundays at 1700 (JST)   \n",
       "\n",
       "                                           Producers  \\\n",
       "0  Production I.G, Dentsu, Mainichi Broadcasting ...   \n",
       "1  VAP, Konami, Ashi Productions, Nippon Televisi...   \n",
       "2  Aniplex, Square Enix, Mainichi Broadcasting Sy...   \n",
       "\n",
       "                        Licensors     Studios Source  \\\n",
       "0                      Funimation  Wit Studio  Manga   \n",
       "1                       VIZ Media    Madhouse  Manga   \n",
       "2  Funimation, Aniplex of America       Bones  Manga   \n",
       "\n",
       "                              Genres                    Themes Demographics  \\\n",
       "0                      Action, Drama  Gore, Military, Survival      Shounen   \n",
       "1             Supernatural, Suspense             Psychological      Shounen   \n",
       "2  Action, Adventure, Drama, Fantasy                  Military      Shounen   \n",
       "\n",
       "   Duration_Minutes                          Rating  Score  Scored_Users  \\\n",
       "0              24.0  R - 17+ (violence & profanity)  8.531      519803.0   \n",
       "1              23.0  R - 17+ (violence & profanity)  8.621      485487.0   \n",
       "2              24.0  R - 17+ (violence & profanity)  9.131      900398.0   \n",
       "\n",
       "   Ranked  Popularity  Members  Favorites  \n",
       "0  1002.0           1  3524109     155695  \n",
       "1   732.0           2  3504535     159701  \n",
       "2    12.0           3  2978455     207772  "
      ]
     },
     "execution_count": 16,
     "metadata": {},
     "output_type": "execute_result"
    }
   ],
   "source": [
    "df.head(3)"
   ]
  },
  {
   "cell_type": "markdown",
   "metadata": {},
   "source": [
    "AS MUCH I CAN SEE . AS AN ANIME FAN IF I LIKE THE ANIME WE ARE NOT GOING TO SEE ALL THESE THING LIKE SCORES BY THE USERS etc...\n",
    "SO I DROP THOSE COLUMNS ACCORDING TO MY OPININON."
   ]
  },
  {
   "cell_type": "code",
   "execution_count": 17,
   "metadata": {},
   "outputs": [],
   "source": [
    "df.drop(['Title', 'Synonyms', 'Japanese','Start_Aired', 'End_Aired','Broadcast','Licensors','Source','Themes','Duration_Minutes','Scored_Users', 'Ranked','Members', 'Favorites','Popularity'],axis=1,inplace=True)"
   ]
  },
  {
   "cell_type": "code",
   "execution_count": 18,
   "metadata": {},
   "outputs": [
    {
     "data": {
      "text/plain": [
       "(12937, 13)"
      ]
     },
     "execution_count": 18,
     "metadata": {},
     "output_type": "execute_result"
    }
   ],
   "source": [
    "df.shape"
   ]
  },
  {
   "cell_type": "code",
   "execution_count": 19,
   "metadata": {},
   "outputs": [
    {
     "data": {
      "text/html": [
       "<div>\n",
       "<style scoped>\n",
       "    .dataframe tbody tr th:only-of-type {\n",
       "        vertical-align: middle;\n",
       "    }\n",
       "\n",
       "    .dataframe tbody tr th {\n",
       "        vertical-align: top;\n",
       "    }\n",
       "\n",
       "    .dataframe thead th {\n",
       "        text-align: right;\n",
       "    }\n",
       "</style>\n",
       "<table border=\"1\" class=\"dataframe\">\n",
       "  <thead>\n",
       "    <tr style=\"text-align: right;\">\n",
       "      <th></th>\n",
       "      <th>ID</th>\n",
       "      <th>English</th>\n",
       "      <th>Synopsis</th>\n",
       "      <th>Type</th>\n",
       "      <th>Episodes</th>\n",
       "      <th>Status</th>\n",
       "      <th>Premiered</th>\n",
       "      <th>Producers</th>\n",
       "      <th>Studios</th>\n",
       "      <th>Genres</th>\n",
       "      <th>Demographics</th>\n",
       "      <th>Rating</th>\n",
       "      <th>Score</th>\n",
       "    </tr>\n",
       "  </thead>\n",
       "  <tbody>\n",
       "    <tr>\n",
       "      <th>0</th>\n",
       "      <td>16498</td>\n",
       "      <td>Attack on Titan</td>\n",
       "      <td>Centuries ago, mankind was slaughtered to near...</td>\n",
       "      <td>TV</td>\n",
       "      <td>25.0</td>\n",
       "      <td>Finished Airing</td>\n",
       "      <td>Spring 2013</td>\n",
       "      <td>Production I.G, Dentsu, Mainichi Broadcasting ...</td>\n",
       "      <td>Wit Studio</td>\n",
       "      <td>Action, Drama</td>\n",
       "      <td>Shounen</td>\n",
       "      <td>R - 17+ (violence &amp; profanity)</td>\n",
       "      <td>8.531</td>\n",
       "    </tr>\n",
       "    <tr>\n",
       "      <th>1</th>\n",
       "      <td>1535</td>\n",
       "      <td>Death Note</td>\n",
       "      <td>Brutal murders, petty thefts, and senseless vi...</td>\n",
       "      <td>TV</td>\n",
       "      <td>37.0</td>\n",
       "      <td>Finished Airing</td>\n",
       "      <td>Fall 2006</td>\n",
       "      <td>VAP, Konami, Ashi Productions, Nippon Televisi...</td>\n",
       "      <td>Madhouse</td>\n",
       "      <td>Supernatural, Suspense</td>\n",
       "      <td>Shounen</td>\n",
       "      <td>R - 17+ (violence &amp; profanity)</td>\n",
       "      <td>8.621</td>\n",
       "    </tr>\n",
       "    <tr>\n",
       "      <th>2</th>\n",
       "      <td>5114</td>\n",
       "      <td>Fullmetal Alchemist Brotherhood</td>\n",
       "      <td>After a horrific alchemy experiment goes wrong...</td>\n",
       "      <td>TV</td>\n",
       "      <td>64.0</td>\n",
       "      <td>Finished Airing</td>\n",
       "      <td>Spring 2009</td>\n",
       "      <td>Aniplex, Square Enix, Mainichi Broadcasting Sy...</td>\n",
       "      <td>Bones</td>\n",
       "      <td>Action, Adventure, Drama, Fantasy</td>\n",
       "      <td>Shounen</td>\n",
       "      <td>R - 17+ (violence &amp; profanity)</td>\n",
       "      <td>9.131</td>\n",
       "    </tr>\n",
       "  </tbody>\n",
       "</table>\n",
       "</div>"
      ],
      "text/plain": [
       "      ID                          English  \\\n",
       "0  16498                  Attack on Titan   \n",
       "1   1535                       Death Note   \n",
       "2   5114  Fullmetal Alchemist Brotherhood   \n",
       "\n",
       "                                            Synopsis Type  Episodes  \\\n",
       "0  Centuries ago, mankind was slaughtered to near...   TV      25.0   \n",
       "1  Brutal murders, petty thefts, and senseless vi...   TV      37.0   \n",
       "2  After a horrific alchemy experiment goes wrong...   TV      64.0   \n",
       "\n",
       "            Status    Premiered  \\\n",
       "0  Finished Airing  Spring 2013   \n",
       "1  Finished Airing    Fall 2006   \n",
       "2  Finished Airing  Spring 2009   \n",
       "\n",
       "                                           Producers     Studios  \\\n",
       "0  Production I.G, Dentsu, Mainichi Broadcasting ...  Wit Studio   \n",
       "1  VAP, Konami, Ashi Productions, Nippon Televisi...    Madhouse   \n",
       "2  Aniplex, Square Enix, Mainichi Broadcasting Sy...       Bones   \n",
       "\n",
       "                              Genres Demographics  \\\n",
       "0                      Action, Drama      Shounen   \n",
       "1             Supernatural, Suspense      Shounen   \n",
       "2  Action, Adventure, Drama, Fantasy      Shounen   \n",
       "\n",
       "                           Rating  Score  \n",
       "0  R - 17+ (violence & profanity)  8.531  \n",
       "1  R - 17+ (violence & profanity)  8.621  \n",
       "2  R - 17+ (violence & profanity)  9.131  "
      ]
     },
     "execution_count": 19,
     "metadata": {},
     "output_type": "execute_result"
    }
   ],
   "source": [
    "df.head(3)"
   ]
  },
  {
   "cell_type": "code",
   "execution_count": 20,
   "metadata": {},
   "outputs": [
    {
     "data": {
      "text/plain": [
       "ID              0\n",
       "English         0\n",
       "Synopsis        0\n",
       "Type            0\n",
       "Episodes        0\n",
       "Status          0\n",
       "Premiered       0\n",
       "Producers       0\n",
       "Studios         0\n",
       "Genres          0\n",
       "Demographics    0\n",
       "Rating          0\n",
       "Score           0\n",
       "dtype: int64"
      ]
     },
     "execution_count": 20,
     "metadata": {},
     "output_type": "execute_result"
    }
   ],
   "source": [
    "df.isna().sum()"
   ]
  },
  {
   "cell_type": "markdown",
   "metadata": {},
   "source": [
    "THE LEFTED COLUMNS WITH WHICH WE ARE LEFT"
   ]
  },
  {
   "cell_type": "code",
   "execution_count": 21,
   "metadata": {},
   "outputs": [
    {
     "data": {
      "text/plain": [
       "Index(['ID', 'English', 'Synopsis', 'Type', 'Episodes', 'Status', 'Premiered',\n",
       "       'Producers', 'Studios', 'Genres', 'Demographics', 'Rating', 'Score'],\n",
       "      dtype='object')"
      ]
     },
     "execution_count": 21,
     "metadata": {},
     "output_type": "execute_result"
    }
   ],
   "source": [
    "df.columns"
   ]
  },
  {
   "cell_type": "markdown",
   "metadata": {},
   "source": [
    "USE THE SIMPLEIMPUTER FOR FILLING ALL THE NAN VALUES IN EPISODES AND SCORE TO GET A BIAS AND ACCURATE RECOMMENDATION"
   ]
  },
  {
   "cell_type": "code",
   "execution_count": 22,
   "metadata": {},
   "outputs": [
    {
     "data": {
      "text/html": [
       "<div>\n",
       "<style scoped>\n",
       "    .dataframe tbody tr th:only-of-type {\n",
       "        vertical-align: middle;\n",
       "    }\n",
       "\n",
       "    .dataframe tbody tr th {\n",
       "        vertical-align: top;\n",
       "    }\n",
       "\n",
       "    .dataframe thead th {\n",
       "        text-align: right;\n",
       "    }\n",
       "</style>\n",
       "<table border=\"1\" class=\"dataframe\">\n",
       "  <thead>\n",
       "    <tr style=\"text-align: right;\">\n",
       "      <th></th>\n",
       "      <th>Episodes</th>\n",
       "      <th>Score</th>\n",
       "      <th>ID</th>\n",
       "      <th>English</th>\n",
       "      <th>Synopsis</th>\n",
       "      <th>Type</th>\n",
       "      <th>Status</th>\n",
       "      <th>Premiered</th>\n",
       "      <th>Producers</th>\n",
       "      <th>Studios</th>\n",
       "      <th>Genres</th>\n",
       "      <th>Demographics</th>\n",
       "      <th>Rating</th>\n",
       "    </tr>\n",
       "  </thead>\n",
       "  <tbody>\n",
       "    <tr>\n",
       "      <th>0</th>\n",
       "      <td>25.0</td>\n",
       "      <td>8.531</td>\n",
       "      <td>16498</td>\n",
       "      <td>Attack on Titan</td>\n",
       "      <td>Centuries ago, mankind was slaughtered to near...</td>\n",
       "      <td>TV</td>\n",
       "      <td>Finished Airing</td>\n",
       "      <td>Spring 2013</td>\n",
       "      <td>Production I.G, Dentsu, Mainichi Broadcasting ...</td>\n",
       "      <td>Wit Studio</td>\n",
       "      <td>Action, Drama</td>\n",
       "      <td>Shounen</td>\n",
       "      <td>R - 17+ (violence &amp; profanity)</td>\n",
       "    </tr>\n",
       "    <tr>\n",
       "      <th>1</th>\n",
       "      <td>37.0</td>\n",
       "      <td>8.621</td>\n",
       "      <td>1535</td>\n",
       "      <td>Death Note</td>\n",
       "      <td>Brutal murders, petty thefts, and senseless vi...</td>\n",
       "      <td>TV</td>\n",
       "      <td>Finished Airing</td>\n",
       "      <td>Fall 2006</td>\n",
       "      <td>VAP, Konami, Ashi Productions, Nippon Televisi...</td>\n",
       "      <td>Madhouse</td>\n",
       "      <td>Supernatural, Suspense</td>\n",
       "      <td>Shounen</td>\n",
       "      <td>R - 17+ (violence &amp; profanity)</td>\n",
       "    </tr>\n",
       "    <tr>\n",
       "      <th>2</th>\n",
       "      <td>64.0</td>\n",
       "      <td>9.131</td>\n",
       "      <td>5114</td>\n",
       "      <td>Fullmetal Alchemist Brotherhood</td>\n",
       "      <td>After a horrific alchemy experiment goes wrong...</td>\n",
       "      <td>TV</td>\n",
       "      <td>Finished Airing</td>\n",
       "      <td>Spring 2009</td>\n",
       "      <td>Aniplex, Square Enix, Mainichi Broadcasting Sy...</td>\n",
       "      <td>Bones</td>\n",
       "      <td>Action, Adventure, Drama, Fantasy</td>\n",
       "      <td>Shounen</td>\n",
       "      <td>R - 17+ (violence &amp; profanity)</td>\n",
       "    </tr>\n",
       "  </tbody>\n",
       "</table>\n",
       "</div>"
      ],
      "text/plain": [
       "  Episodes  Score     ID                          English  \\\n",
       "0     25.0  8.531  16498                  Attack on Titan   \n",
       "1     37.0  8.621   1535                       Death Note   \n",
       "2     64.0  9.131   5114  Fullmetal Alchemist Brotherhood   \n",
       "\n",
       "                                            Synopsis Type           Status  \\\n",
       "0  Centuries ago, mankind was slaughtered to near...   TV  Finished Airing   \n",
       "1  Brutal murders, petty thefts, and senseless vi...   TV  Finished Airing   \n",
       "2  After a horrific alchemy experiment goes wrong...   TV  Finished Airing   \n",
       "\n",
       "     Premiered                                          Producers     Studios  \\\n",
       "0  Spring 2013  Production I.G, Dentsu, Mainichi Broadcasting ...  Wit Studio   \n",
       "1    Fall 2006  VAP, Konami, Ashi Productions, Nippon Televisi...    Madhouse   \n",
       "2  Spring 2009  Aniplex, Square Enix, Mainichi Broadcasting Sy...       Bones   \n",
       "\n",
       "                              Genres Demographics  \\\n",
       "0                      Action, Drama      Shounen   \n",
       "1             Supernatural, Suspense      Shounen   \n",
       "2  Action, Adventure, Drama, Fantasy      Shounen   \n",
       "\n",
       "                           Rating  \n",
       "0  R - 17+ (violence & profanity)  \n",
       "1  R - 17+ (violence & profanity)  \n",
       "2  R - 17+ (violence & profanity)  "
      ]
     },
     "execution_count": 22,
     "metadata": {},
     "output_type": "execute_result"
    }
   ],
   "source": [
    "ct=ColumnTransformer(transformers=[(\"tf1\",SimpleImputer(strategy='median'),['Episodes','Score'])],remainder='passthrough')\n",
    "df=pd.DataFrame(ct.fit_transform(df),columns=['Episodes','Score','ID', 'English', 'Synopsis', 'Type',  'Status', 'Premiered',\n",
    "       'Producers', 'Studios', 'Genres', 'Demographics', 'Rating'\n",
    "       ],)\n",
    "df.head(3)\n",
    "\n"
   ]
  },
  {
   "cell_type": "code",
   "execution_count": 23,
   "metadata": {},
   "outputs": [
    {
     "data": {
      "text/plain": [
       "Episodes        0\n",
       "Score           0\n",
       "ID              0\n",
       "English         0\n",
       "Synopsis        0\n",
       "Type            0\n",
       "Status          0\n",
       "Premiered       0\n",
       "Producers       0\n",
       "Studios         0\n",
       "Genres          0\n",
       "Demographics    0\n",
       "Rating          0\n",
       "dtype: int64"
      ]
     },
     "execution_count": 23,
     "metadata": {},
     "output_type": "execute_result"
    }
   ],
   "source": [
    "df.isnull().sum()"
   ]
  },
  {
   "cell_type": "markdown",
   "metadata": {},
   "source": [
    "HERE WE CONVERT THE DATATYPE OF THE EPISODES AND SCORES FROM FLOAT TO STRING SO THAT WE CAN DO OPEARTION FURTHER.."
   ]
  },
  {
   "cell_type": "code",
   "execution_count": 24,
   "metadata": {},
   "outputs": [],
   "source": [
    "df['Episodes']=df['Episodes'].astype(str)\n",
    "df['Score']=df['Score'].astype(str)\n",
    "df['Rating']=df['Rating'].astype(str)\n",
    "df['Demographics']=df['Demographics'].tolist()\n",
    "def c(x):\n",
    "    l=[]\n",
    "    for i in x.split(' '):\n",
    "        l.append(f\"{i}\")\n",
    "    return l\n",
    "def ch(x):\n",
    "    l=[]\n",
    "    for i in x.split(' '):\n",
    "        l.append(f\"{i}\")\n",
    "    return l  \n",
    "def pri(x):\n",
    "    l=[]\n",
    "    for i in x.split(' '):\n",
    "        l.append(f\" {i} \")\n",
    "    return l    \n",
    "def tpe(x):\n",
    "    l=[]\n",
    "    for i in x.split(' '):\n",
    "        l.append(f\" {i}\")\n",
    "    return l \n",
    "def st(x):\n",
    "    l=[]\n",
    "    for i in x.split(' '):\n",
    "        l.append(f\" {i}\")\n",
    "    return l \n",
    "def de(x):\n",
    "    l=[]\n",
    "    for i in x.split(' '):\n",
    "        l.append(f\" {i}\")\n",
    "    return l\n",
    "def std(x):\n",
    "    l=[]\n",
    "    for i in x.split(','):\n",
    "        l.append(f\"{i}\")\n",
    "    return l \n",
    "def gen(x):\n",
    "    l=[]\n",
    "    for i in x.split(','):\n",
    "        l.append(f\" {i}\")\n",
    "      \n",
    "    return l\n",
    "def rat(x):\n",
    "    l=[]\n",
    "    for i in x.split(','):\n",
    "        l.append(f\" {i}\")\n",
    "    return l \n",
    "def prod(x):\n",
    "    l=[]\n",
    "    for i in x.split(','):\n",
    "        l.append(i)\n",
    "    return l\n",
    "def change(x):\n",
    "    l=[]\n",
    "    for i in x.split(','):\n",
    "        l.append(i)\n",
    "    return l   \n"
   ]
  },
  {
   "cell_type": "markdown",
   "metadata": {},
   "source": [
    "APPLY ALL THE CHANGES OR OPERATION NEEDED FOR MAKIN THESE THING IN WORK"
   ]
  },
  {
   "cell_type": "code",
   "execution_count": 25,
   "metadata": {},
   "outputs": [],
   "source": [
    "df['Synopsis']=df['Synopsis'].apply(change)\n",
    "df['Type']=df['Type'].apply(tpe)\n",
    "df['Status']=df['Status'].apply(st)\n",
    "df['Premiered']=df['Premiered'].apply(pri)\n",
    "df['Studios']=df['Studios'].apply(std)\n",
    "df['Genres']=df['Genres'].apply(gen)\n",
    "df['Rating']=df['Rating'].apply(rat).tolist()\n",
    "df['Producers']=df['Producers'].apply(prod)\n",
    "df['Demographics']=df['Demographics'].apply(de)\n",
    "df['Episodes']=df['Episodes'].apply(ch)\n",
    "df['Score']=df['Score'].apply(c)"
   ]
  },
  {
   "cell_type": "markdown",
   "metadata": {},
   "source": [
    "SLICE THE SYNOPSIS AND ALSO THE PRODUCERS NAME TO.."
   ]
  },
  {
   "cell_type": "code",
   "execution_count": 26,
   "metadata": {},
   "outputs": [
    {
     "data": {
      "text/html": [
       "<div>\n",
       "<style scoped>\n",
       "    .dataframe tbody tr th:only-of-type {\n",
       "        vertical-align: middle;\n",
       "    }\n",
       "\n",
       "    .dataframe tbody tr th {\n",
       "        vertical-align: top;\n",
       "    }\n",
       "\n",
       "    .dataframe thead th {\n",
       "        text-align: right;\n",
       "    }\n",
       "</style>\n",
       "<table border=\"1\" class=\"dataframe\">\n",
       "  <thead>\n",
       "    <tr style=\"text-align: right;\">\n",
       "      <th></th>\n",
       "      <th>Episodes</th>\n",
       "      <th>Score</th>\n",
       "      <th>ID</th>\n",
       "      <th>English</th>\n",
       "      <th>Synopsis</th>\n",
       "      <th>Type</th>\n",
       "      <th>Status</th>\n",
       "      <th>Premiered</th>\n",
       "      <th>Producers</th>\n",
       "      <th>Studios</th>\n",
       "      <th>Genres</th>\n",
       "      <th>Demographics</th>\n",
       "      <th>Rating</th>\n",
       "    </tr>\n",
       "  </thead>\n",
       "  <tbody>\n",
       "    <tr>\n",
       "      <th>0</th>\n",
       "      <td>[25.0]</td>\n",
       "      <td>[8.531]</td>\n",
       "      <td>16498</td>\n",
       "      <td>Attack on Titan</td>\n",
       "      <td>[Centuries ago,  mankind was slaughtered to ne...</td>\n",
       "      <td>[ TV]</td>\n",
       "      <td>[ Finished,  Airing]</td>\n",
       "      <td>[ Spring ,  2013 ]</td>\n",
       "      <td>[Production I.G,  Dentsu,  Mainichi Broadcasti...</td>\n",
       "      <td>[Wit Studio]</td>\n",
       "      <td>[ Action,   Drama]</td>\n",
       "      <td>[ Shounen]</td>\n",
       "      <td>[ R - 17+ (violence &amp; profanity)]</td>\n",
       "    </tr>\n",
       "    <tr>\n",
       "      <th>1</th>\n",
       "      <td>[37.0]</td>\n",
       "      <td>[8.621]</td>\n",
       "      <td>1535</td>\n",
       "      <td>Death Note</td>\n",
       "      <td>[Brutal murders,  petty thefts,  and senseless...</td>\n",
       "      <td>[ TV]</td>\n",
       "      <td>[ Finished,  Airing]</td>\n",
       "      <td>[ Fall ,  2006 ]</td>\n",
       "      <td>[VAP,  Konami,  Ashi Productions,  Nippon Tele...</td>\n",
       "      <td>[Madhouse]</td>\n",
       "      <td>[ Supernatural,   Suspense]</td>\n",
       "      <td>[ Shounen]</td>\n",
       "      <td>[ R - 17+ (violence &amp; profanity)]</td>\n",
       "    </tr>\n",
       "    <tr>\n",
       "      <th>2</th>\n",
       "      <td>[64.0]</td>\n",
       "      <td>[9.131]</td>\n",
       "      <td>5114</td>\n",
       "      <td>Fullmetal Alchemist Brotherhood</td>\n",
       "      <td>[After a horrific alchemy experiment goes wron...</td>\n",
       "      <td>[ TV]</td>\n",
       "      <td>[ Finished,  Airing]</td>\n",
       "      <td>[ Spring ,  2009 ]</td>\n",
       "      <td>[Aniplex,  Square Enix,  Mainichi Broadcasting...</td>\n",
       "      <td>[Bones]</td>\n",
       "      <td>[ Action,   Adventure,   Drama,   Fantasy]</td>\n",
       "      <td>[ Shounen]</td>\n",
       "      <td>[ R - 17+ (violence &amp; profanity)]</td>\n",
       "    </tr>\n",
       "  </tbody>\n",
       "</table>\n",
       "</div>"
      ],
      "text/plain": [
       "  Episodes    Score     ID                          English  \\\n",
       "0   [25.0]  [8.531]  16498                  Attack on Titan   \n",
       "1   [37.0]  [8.621]   1535                       Death Note   \n",
       "2   [64.0]  [9.131]   5114  Fullmetal Alchemist Brotherhood   \n",
       "\n",
       "                                            Synopsis   Type  \\\n",
       "0  [Centuries ago,  mankind was slaughtered to ne...  [ TV]   \n",
       "1  [Brutal murders,  petty thefts,  and senseless...  [ TV]   \n",
       "2  [After a horrific alchemy experiment goes wron...  [ TV]   \n",
       "\n",
       "                 Status           Premiered  \\\n",
       "0  [ Finished,  Airing]  [ Spring ,  2013 ]   \n",
       "1  [ Finished,  Airing]    [ Fall ,  2006 ]   \n",
       "2  [ Finished,  Airing]  [ Spring ,  2009 ]   \n",
       "\n",
       "                                           Producers       Studios  \\\n",
       "0  [Production I.G,  Dentsu,  Mainichi Broadcasti...  [Wit Studio]   \n",
       "1  [VAP,  Konami,  Ashi Productions,  Nippon Tele...    [Madhouse]   \n",
       "2  [Aniplex,  Square Enix,  Mainichi Broadcasting...       [Bones]   \n",
       "\n",
       "                                       Genres Demographics  \\\n",
       "0                          [ Action,   Drama]   [ Shounen]   \n",
       "1                 [ Supernatural,   Suspense]   [ Shounen]   \n",
       "2  [ Action,   Adventure,   Drama,   Fantasy]   [ Shounen]   \n",
       "\n",
       "                              Rating  \n",
       "0  [ R - 17+ (violence & profanity)]  \n",
       "1  [ R - 17+ (violence & profanity)]  \n",
       "2  [ R - 17+ (violence & profanity)]  "
      ]
     },
     "execution_count": 26,
     "metadata": {},
     "output_type": "execute_result"
    }
   ],
   "source": [
    "df['Synopsis']=df['Synopsis'].apply(lambda x: x[:3])\n",
    "df.head(3)"
   ]
  },
  {
   "cell_type": "code",
   "execution_count": 27,
   "metadata": {},
   "outputs": [],
   "source": [
    "\n",
    "df['Producers']=df['Producers'].apply(lambda x: x[:2])"
   ]
  },
  {
   "cell_type": "code",
   "execution_count": 28,
   "metadata": {},
   "outputs": [
    {
     "data": {
      "text/html": [
       "<div>\n",
       "<style scoped>\n",
       "    .dataframe tbody tr th:only-of-type {\n",
       "        vertical-align: middle;\n",
       "    }\n",
       "\n",
       "    .dataframe tbody tr th {\n",
       "        vertical-align: top;\n",
       "    }\n",
       "\n",
       "    .dataframe thead th {\n",
       "        text-align: right;\n",
       "    }\n",
       "</style>\n",
       "<table border=\"1\" class=\"dataframe\">\n",
       "  <thead>\n",
       "    <tr style=\"text-align: right;\">\n",
       "      <th></th>\n",
       "      <th>Episodes</th>\n",
       "      <th>Score</th>\n",
       "      <th>ID</th>\n",
       "      <th>English</th>\n",
       "      <th>Synopsis</th>\n",
       "      <th>Type</th>\n",
       "      <th>Status</th>\n",
       "      <th>Premiered</th>\n",
       "      <th>Producers</th>\n",
       "      <th>Studios</th>\n",
       "      <th>Genres</th>\n",
       "      <th>Demographics</th>\n",
       "      <th>Rating</th>\n",
       "    </tr>\n",
       "  </thead>\n",
       "  <tbody>\n",
       "    <tr>\n",
       "      <th>0</th>\n",
       "      <td>[25.0]</td>\n",
       "      <td>[8.531]</td>\n",
       "      <td>16498</td>\n",
       "      <td>Attack on Titan</td>\n",
       "      <td>[Centuries ago,  mankind was slaughtered to ne...</td>\n",
       "      <td>[ TV]</td>\n",
       "      <td>[ Finished,  Airing]</td>\n",
       "      <td>[ Spring ,  2013 ]</td>\n",
       "      <td>[Production I.G,  Dentsu]</td>\n",
       "      <td>[Wit Studio]</td>\n",
       "      <td>[ Action,   Drama]</td>\n",
       "      <td>[ Shounen]</td>\n",
       "      <td>[ R - 17+ (violence &amp; profanity)]</td>\n",
       "    </tr>\n",
       "    <tr>\n",
       "      <th>1</th>\n",
       "      <td>[37.0]</td>\n",
       "      <td>[8.621]</td>\n",
       "      <td>1535</td>\n",
       "      <td>Death Note</td>\n",
       "      <td>[Brutal murders,  petty thefts,  and senseless...</td>\n",
       "      <td>[ TV]</td>\n",
       "      <td>[ Finished,  Airing]</td>\n",
       "      <td>[ Fall ,  2006 ]</td>\n",
       "      <td>[VAP,  Konami]</td>\n",
       "      <td>[Madhouse]</td>\n",
       "      <td>[ Supernatural,   Suspense]</td>\n",
       "      <td>[ Shounen]</td>\n",
       "      <td>[ R - 17+ (violence &amp; profanity)]</td>\n",
       "    </tr>\n",
       "    <tr>\n",
       "      <th>2</th>\n",
       "      <td>[64.0]</td>\n",
       "      <td>[9.131]</td>\n",
       "      <td>5114</td>\n",
       "      <td>Fullmetal Alchemist Brotherhood</td>\n",
       "      <td>[After a horrific alchemy experiment goes wron...</td>\n",
       "      <td>[ TV]</td>\n",
       "      <td>[ Finished,  Airing]</td>\n",
       "      <td>[ Spring ,  2009 ]</td>\n",
       "      <td>[Aniplex,  Square Enix]</td>\n",
       "      <td>[Bones]</td>\n",
       "      <td>[ Action,   Adventure,   Drama,   Fantasy]</td>\n",
       "      <td>[ Shounen]</td>\n",
       "      <td>[ R - 17+ (violence &amp; profanity)]</td>\n",
       "    </tr>\n",
       "  </tbody>\n",
       "</table>\n",
       "</div>"
      ],
      "text/plain": [
       "  Episodes    Score     ID                          English  \\\n",
       "0   [25.0]  [8.531]  16498                  Attack on Titan   \n",
       "1   [37.0]  [8.621]   1535                       Death Note   \n",
       "2   [64.0]  [9.131]   5114  Fullmetal Alchemist Brotherhood   \n",
       "\n",
       "                                            Synopsis   Type  \\\n",
       "0  [Centuries ago,  mankind was slaughtered to ne...  [ TV]   \n",
       "1  [Brutal murders,  petty thefts,  and senseless...  [ TV]   \n",
       "2  [After a horrific alchemy experiment goes wron...  [ TV]   \n",
       "\n",
       "                 Status           Premiered                  Producers  \\\n",
       "0  [ Finished,  Airing]  [ Spring ,  2013 ]  [Production I.G,  Dentsu]   \n",
       "1  [ Finished,  Airing]    [ Fall ,  2006 ]             [VAP,  Konami]   \n",
       "2  [ Finished,  Airing]  [ Spring ,  2009 ]    [Aniplex,  Square Enix]   \n",
       "\n",
       "        Studios                                      Genres Demographics  \\\n",
       "0  [Wit Studio]                          [ Action,   Drama]   [ Shounen]   \n",
       "1    [Madhouse]                 [ Supernatural,   Suspense]   [ Shounen]   \n",
       "2       [Bones]  [ Action,   Adventure,   Drama,   Fantasy]   [ Shounen]   \n",
       "\n",
       "                              Rating  \n",
       "0  [ R - 17+ (violence & profanity)]  \n",
       "1  [ R - 17+ (violence & profanity)]  \n",
       "2  [ R - 17+ (violence & profanity)]  "
      ]
     },
     "execution_count": 28,
     "metadata": {},
     "output_type": "execute_result"
    }
   ],
   "source": [
    "df.head(3)"
   ]
  },
  {
   "cell_type": "code",
   "execution_count": 29,
   "metadata": {},
   "outputs": [
    {
     "data": {
      "text/html": [
       "<div>\n",
       "<style scoped>\n",
       "    .dataframe tbody tr th:only-of-type {\n",
       "        vertical-align: middle;\n",
       "    }\n",
       "\n",
       "    .dataframe tbody tr th {\n",
       "        vertical-align: top;\n",
       "    }\n",
       "\n",
       "    .dataframe thead th {\n",
       "        text-align: right;\n",
       "    }\n",
       "</style>\n",
       "<table border=\"1\" class=\"dataframe\">\n",
       "  <thead>\n",
       "    <tr style=\"text-align: right;\">\n",
       "      <th></th>\n",
       "      <th>Episodes</th>\n",
       "      <th>Score</th>\n",
       "      <th>ID</th>\n",
       "      <th>English</th>\n",
       "      <th>Synopsis</th>\n",
       "      <th>Type</th>\n",
       "      <th>Status</th>\n",
       "      <th>Premiered</th>\n",
       "      <th>Producers</th>\n",
       "      <th>Studios</th>\n",
       "      <th>Genres</th>\n",
       "      <th>Demographics</th>\n",
       "      <th>Rating</th>\n",
       "    </tr>\n",
       "  </thead>\n",
       "  <tbody>\n",
       "    <tr>\n",
       "      <th>0</th>\n",
       "      <td>[25.0]</td>\n",
       "      <td>[8.531]</td>\n",
       "      <td>16498</td>\n",
       "      <td>Attack on Titan</td>\n",
       "      <td>[Centuries ago,  mankind was slaughtered to ne...</td>\n",
       "      <td>[ TV]</td>\n",
       "      <td>[ Finished,  Airing]</td>\n",
       "      <td>[ Spring ,  2013 ]</td>\n",
       "      <td>[Production I.G,  Dentsu]</td>\n",
       "      <td>[Wit Studio]</td>\n",
       "      <td>[ Action,   Drama]</td>\n",
       "      <td>[ Shounen]</td>\n",
       "      <td>[ R - 17+ (violence &amp; profanity)]</td>\n",
       "    </tr>\n",
       "    <tr>\n",
       "      <th>1</th>\n",
       "      <td>[37.0]</td>\n",
       "      <td>[8.621]</td>\n",
       "      <td>1535</td>\n",
       "      <td>Death Note</td>\n",
       "      <td>[Brutal murders,  petty thefts,  and senseless...</td>\n",
       "      <td>[ TV]</td>\n",
       "      <td>[ Finished,  Airing]</td>\n",
       "      <td>[ Fall ,  2006 ]</td>\n",
       "      <td>[VAP,  Konami]</td>\n",
       "      <td>[Madhouse]</td>\n",
       "      <td>[ Supernatural,   Suspense]</td>\n",
       "      <td>[ Shounen]</td>\n",
       "      <td>[ R - 17+ (violence &amp; profanity)]</td>\n",
       "    </tr>\n",
       "    <tr>\n",
       "      <th>2</th>\n",
       "      <td>[64.0]</td>\n",
       "      <td>[9.131]</td>\n",
       "      <td>5114</td>\n",
       "      <td>Fullmetal Alchemist Brotherhood</td>\n",
       "      <td>[After a horrific alchemy experiment goes wron...</td>\n",
       "      <td>[ TV]</td>\n",
       "      <td>[ Finished,  Airing]</td>\n",
       "      <td>[ Spring ,  2009 ]</td>\n",
       "      <td>[Aniplex,  Square Enix]</td>\n",
       "      <td>[Bones]</td>\n",
       "      <td>[ Action,   Adventure,   Drama,   Fantasy]</td>\n",
       "      <td>[ Shounen]</td>\n",
       "      <td>[ R - 17+ (violence &amp; profanity)]</td>\n",
       "    </tr>\n",
       "  </tbody>\n",
       "</table>\n",
       "</div>"
      ],
      "text/plain": [
       "  Episodes    Score     ID                          English  \\\n",
       "0   [25.0]  [8.531]  16498                  Attack on Titan   \n",
       "1   [37.0]  [8.621]   1535                       Death Note   \n",
       "2   [64.0]  [9.131]   5114  Fullmetal Alchemist Brotherhood   \n",
       "\n",
       "                                            Synopsis   Type  \\\n",
       "0  [Centuries ago,  mankind was slaughtered to ne...  [ TV]   \n",
       "1  [Brutal murders,  petty thefts,  and senseless...  [ TV]   \n",
       "2  [After a horrific alchemy experiment goes wron...  [ TV]   \n",
       "\n",
       "                 Status           Premiered                  Producers  \\\n",
       "0  [ Finished,  Airing]  [ Spring ,  2013 ]  [Production I.G,  Dentsu]   \n",
       "1  [ Finished,  Airing]    [ Fall ,  2006 ]             [VAP,  Konami]   \n",
       "2  [ Finished,  Airing]  [ Spring ,  2009 ]    [Aniplex,  Square Enix]   \n",
       "\n",
       "        Studios                                      Genres Demographics  \\\n",
       "0  [Wit Studio]                          [ Action,   Drama]   [ Shounen]   \n",
       "1    [Madhouse]                 [ Supernatural,   Suspense]   [ Shounen]   \n",
       "2       [Bones]  [ Action,   Adventure,   Drama,   Fantasy]   [ Shounen]   \n",
       "\n",
       "                              Rating  \n",
       "0  [ R - 17+ (violence & profanity)]  \n",
       "1  [ R - 17+ (violence & profanity)]  \n",
       "2  [ R - 17+ (violence & profanity)]  "
      ]
     },
     "execution_count": 29,
     "metadata": {},
     "output_type": "execute_result"
    }
   ],
   "source": [
    "df.head(3)"
   ]
  },
  {
   "cell_type": "code",
   "execution_count": 30,
   "metadata": {},
   "outputs": [
    {
     "data": {
      "text/plain": [
       "array([list(['Production I.G', ' Dentsu'])], dtype=object)"
      ]
     },
     "execution_count": 30,
     "metadata": {},
     "output_type": "execute_result"
    }
   ],
   "source": [
    "df.head(1)['Producers'].values"
   ]
  },
  {
   "cell_type": "code",
   "execution_count": 31,
   "metadata": {},
   "outputs": [],
   "source": [
    "df['Synopsis']=df['Synopsis'].apply(lambda x:[i.replace(\",\",'') for i in x] )\n",
    "df['Type']=df['Type'].apply(lambda x:[i.replace(\" \",'') for i in x] )\n",
    "df['Status']=df['Status'].apply(lambda x:[i.replace(\" \",'') for i in x] )\n",
    "df['Premiered']=df['Premiered'].apply(lambda x:[i.replace(\" \",'') for i in x] )\n",
    "df['Studios']=df['Studios'].apply(lambda x:[i.replace(\" \",'') for i in x] )\n",
    "df['Genres']=df['Genres'].apply(lambda x:[i.replace(\" \",'') for i in x] )\n",
    "df['Rating']=df['Rating'].apply(lambda x:[i.replace(\" \",'') for i in x] )\n",
    "df['Producers']=df['Producers'].apply(lambda x:[i.replace(\" \",'') for i in x] )"
   ]
  },
  {
   "cell_type": "code",
   "execution_count": 32,
   "metadata": {},
   "outputs": [
    {
     "data": {
      "text/html": [
       "<div>\n",
       "<style scoped>\n",
       "    .dataframe tbody tr th:only-of-type {\n",
       "        vertical-align: middle;\n",
       "    }\n",
       "\n",
       "    .dataframe tbody tr th {\n",
       "        vertical-align: top;\n",
       "    }\n",
       "\n",
       "    .dataframe thead th {\n",
       "        text-align: right;\n",
       "    }\n",
       "</style>\n",
       "<table border=\"1\" class=\"dataframe\">\n",
       "  <thead>\n",
       "    <tr style=\"text-align: right;\">\n",
       "      <th></th>\n",
       "      <th>Episodes</th>\n",
       "      <th>Score</th>\n",
       "      <th>ID</th>\n",
       "      <th>English</th>\n",
       "      <th>Synopsis</th>\n",
       "      <th>Type</th>\n",
       "      <th>Status</th>\n",
       "      <th>Premiered</th>\n",
       "      <th>Producers</th>\n",
       "      <th>Studios</th>\n",
       "      <th>Genres</th>\n",
       "      <th>Demographics</th>\n",
       "      <th>Rating</th>\n",
       "    </tr>\n",
       "  </thead>\n",
       "  <tbody>\n",
       "    <tr>\n",
       "      <th>0</th>\n",
       "      <td>[25.0]</td>\n",
       "      <td>[8.531]</td>\n",
       "      <td>16498</td>\n",
       "      <td>Attack on Titan</td>\n",
       "      <td>[Centuries ago,  mankind was slaughtered to ne...</td>\n",
       "      <td>[TV]</td>\n",
       "      <td>[Finished, Airing]</td>\n",
       "      <td>[Spring, 2013]</td>\n",
       "      <td>[ProductionI.G, Dentsu]</td>\n",
       "      <td>[WitStudio]</td>\n",
       "      <td>[Action, Drama]</td>\n",
       "      <td>[ Shounen]</td>\n",
       "      <td>[R-17+(violence&amp;profanity)]</td>\n",
       "    </tr>\n",
       "    <tr>\n",
       "      <th>1</th>\n",
       "      <td>[37.0]</td>\n",
       "      <td>[8.621]</td>\n",
       "      <td>1535</td>\n",
       "      <td>Death Note</td>\n",
       "      <td>[Brutal murders,  petty thefts,  and senseless...</td>\n",
       "      <td>[TV]</td>\n",
       "      <td>[Finished, Airing]</td>\n",
       "      <td>[Fall, 2006]</td>\n",
       "      <td>[VAP, Konami]</td>\n",
       "      <td>[Madhouse]</td>\n",
       "      <td>[Supernatural, Suspense]</td>\n",
       "      <td>[ Shounen]</td>\n",
       "      <td>[R-17+(violence&amp;profanity)]</td>\n",
       "    </tr>\n",
       "    <tr>\n",
       "      <th>2</th>\n",
       "      <td>[64.0]</td>\n",
       "      <td>[9.131]</td>\n",
       "      <td>5114</td>\n",
       "      <td>Fullmetal Alchemist Brotherhood</td>\n",
       "      <td>[After a horrific alchemy experiment goes wron...</td>\n",
       "      <td>[TV]</td>\n",
       "      <td>[Finished, Airing]</td>\n",
       "      <td>[Spring, 2009]</td>\n",
       "      <td>[Aniplex, SquareEnix]</td>\n",
       "      <td>[Bones]</td>\n",
       "      <td>[Action, Adventure, Drama, Fantasy]</td>\n",
       "      <td>[ Shounen]</td>\n",
       "      <td>[R-17+(violence&amp;profanity)]</td>\n",
       "    </tr>\n",
       "  </tbody>\n",
       "</table>\n",
       "</div>"
      ],
      "text/plain": [
       "  Episodes    Score     ID                          English  \\\n",
       "0   [25.0]  [8.531]  16498                  Attack on Titan   \n",
       "1   [37.0]  [8.621]   1535                       Death Note   \n",
       "2   [64.0]  [9.131]   5114  Fullmetal Alchemist Brotherhood   \n",
       "\n",
       "                                            Synopsis  Type  \\\n",
       "0  [Centuries ago,  mankind was slaughtered to ne...  [TV]   \n",
       "1  [Brutal murders,  petty thefts,  and senseless...  [TV]   \n",
       "2  [After a horrific alchemy experiment goes wron...  [TV]   \n",
       "\n",
       "               Status       Premiered                Producers      Studios  \\\n",
       "0  [Finished, Airing]  [Spring, 2013]  [ProductionI.G, Dentsu]  [WitStudio]   \n",
       "1  [Finished, Airing]    [Fall, 2006]            [VAP, Konami]   [Madhouse]   \n",
       "2  [Finished, Airing]  [Spring, 2009]    [Aniplex, SquareEnix]      [Bones]   \n",
       "\n",
       "                                Genres Demographics  \\\n",
       "0                      [Action, Drama]   [ Shounen]   \n",
       "1             [Supernatural, Suspense]   [ Shounen]   \n",
       "2  [Action, Adventure, Drama, Fantasy]   [ Shounen]   \n",
       "\n",
       "                        Rating  \n",
       "0  [R-17+(violence&profanity)]  \n",
       "1  [R-17+(violence&profanity)]  \n",
       "2  [R-17+(violence&profanity)]  "
      ]
     },
     "execution_count": 32,
     "metadata": {},
     "output_type": "execute_result"
    }
   ],
   "source": [
    "df.head(3)"
   ]
  },
  {
   "cell_type": "markdown",
   "metadata": {},
   "source": [
    "AFTER THAT AS ALL THE THINGS DONE I CONCATENATED ALL THE COLUMNS IN ONE  WHICH IS '''df[ABOUT]''' "
   ]
  },
  {
   "cell_type": "code",
   "execution_count": 33,
   "metadata": {},
   "outputs": [],
   "source": [
    "df['About']=  df['Synopsis']+df['Genres'] + df['Premiered'] + df['Producers'] + df['Status'] + df['Studios'] + df['Type']+df['Episodes']+df['Score']+df['Demographics']+df['Rating']"
   ]
  },
  {
   "cell_type": "code",
   "execution_count": 34,
   "metadata": {},
   "outputs": [],
   "source": [
    "df.drop(['Synopsis','Type','Status','Premiered','Producers','Studios','Genres','Demographics','Rating','Episodes','Score'],axis=1,inplace=True)"
   ]
  },
  {
   "cell_type": "markdown",
   "metadata": {},
   "source": [
    "AFETR CONCATINATING HERE WHAT I GOT"
   ]
  },
  {
   "cell_type": "code",
   "execution_count": 35,
   "metadata": {},
   "outputs": [
    {
     "data": {
      "text/html": [
       "<div>\n",
       "<style scoped>\n",
       "    .dataframe tbody tr th:only-of-type {\n",
       "        vertical-align: middle;\n",
       "    }\n",
       "\n",
       "    .dataframe tbody tr th {\n",
       "        vertical-align: top;\n",
       "    }\n",
       "\n",
       "    .dataframe thead th {\n",
       "        text-align: right;\n",
       "    }\n",
       "</style>\n",
       "<table border=\"1\" class=\"dataframe\">\n",
       "  <thead>\n",
       "    <tr style=\"text-align: right;\">\n",
       "      <th></th>\n",
       "      <th>ID</th>\n",
       "      <th>English</th>\n",
       "      <th>About</th>\n",
       "    </tr>\n",
       "  </thead>\n",
       "  <tbody>\n",
       "    <tr>\n",
       "      <th>0</th>\n",
       "      <td>16498</td>\n",
       "      <td>Attack on Titan</td>\n",
       "      <td>[Centuries ago,  mankind was slaughtered to ne...</td>\n",
       "    </tr>\n",
       "    <tr>\n",
       "      <th>1</th>\n",
       "      <td>1535</td>\n",
       "      <td>Death Note</td>\n",
       "      <td>[Brutal murders,  petty thefts,  and senseless...</td>\n",
       "    </tr>\n",
       "    <tr>\n",
       "      <th>2</th>\n",
       "      <td>5114</td>\n",
       "      <td>Fullmetal Alchemist Brotherhood</td>\n",
       "      <td>[After a horrific alchemy experiment goes wron...</td>\n",
       "    </tr>\n",
       "    <tr>\n",
       "      <th>3</th>\n",
       "      <td>30276</td>\n",
       "      <td>One Punch Man</td>\n",
       "      <td>[The seemingly unimpressive Saitama has a rath...</td>\n",
       "    </tr>\n",
       "    <tr>\n",
       "      <th>4</th>\n",
       "      <td>11757</td>\n",
       "      <td>Sword Art Online</td>\n",
       "      <td>[Ever since the release of the innovative Nerv...</td>\n",
       "    </tr>\n",
       "    <tr>\n",
       "      <th>...</th>\n",
       "      <td>...</td>\n",
       "      <td>...</td>\n",
       "      <td>...</td>\n",
       "    </tr>\n",
       "    <tr>\n",
       "      <th>12932</th>\n",
       "      <td>41763</td>\n",
       "      <td>O Light</td>\n",
       "      <td>[Unknown, Unknown, Unknown, Unknown, Finished,...</td>\n",
       "    </tr>\n",
       "    <tr>\n",
       "      <th>12933</th>\n",
       "      <td>51893</td>\n",
       "      <td>Unknown</td>\n",
       "      <td>[Animated music video for the song Mr. by YOAS...</td>\n",
       "    </tr>\n",
       "    <tr>\n",
       "      <th>12934</th>\n",
       "      <td>41308</td>\n",
       "      <td>Unknown</td>\n",
       "      <td>[Greenlights Serenade is an original song by O...</td>\n",
       "    </tr>\n",
       "    <tr>\n",
       "      <th>12935</th>\n",
       "      <td>51573</td>\n",
       "      <td>Unknown</td>\n",
       "      <td>[Music video for the song Heart Beat by AZKi.,...</td>\n",
       "    </tr>\n",
       "    <tr>\n",
       "      <th>12936</th>\n",
       "      <td>52454</td>\n",
       "      <td>Unknown</td>\n",
       "      <td>[Unknown, Unknown, Unknown, Unknown, Finished,...</td>\n",
       "    </tr>\n",
       "  </tbody>\n",
       "</table>\n",
       "<p>12937 rows × 3 columns</p>\n",
       "</div>"
      ],
      "text/plain": [
       "          ID                          English  \\\n",
       "0      16498                  Attack on Titan   \n",
       "1       1535                       Death Note   \n",
       "2       5114  Fullmetal Alchemist Brotherhood   \n",
       "3      30276                    One Punch Man   \n",
       "4      11757                 Sword Art Online   \n",
       "...      ...                              ...   \n",
       "12932  41763                          O Light   \n",
       "12933  51893                          Unknown   \n",
       "12934  41308                          Unknown   \n",
       "12935  51573                          Unknown   \n",
       "12936  52454                          Unknown   \n",
       "\n",
       "                                                   About  \n",
       "0      [Centuries ago,  mankind was slaughtered to ne...  \n",
       "1      [Brutal murders,  petty thefts,  and senseless...  \n",
       "2      [After a horrific alchemy experiment goes wron...  \n",
       "3      [The seemingly unimpressive Saitama has a rath...  \n",
       "4      [Ever since the release of the innovative Nerv...  \n",
       "...                                                  ...  \n",
       "12932  [Unknown, Unknown, Unknown, Unknown, Finished,...  \n",
       "12933  [Animated music video for the song Mr. by YOAS...  \n",
       "12934  [Greenlights Serenade is an original song by O...  \n",
       "12935  [Music video for the song Heart Beat by AZKi.,...  \n",
       "12936  [Unknown, Unknown, Unknown, Unknown, Finished,...  \n",
       "\n",
       "[12937 rows x 3 columns]"
      ]
     },
     "execution_count": 35,
     "metadata": {},
     "output_type": "execute_result"
    }
   ],
   "source": [
    "df"
   ]
  },
  {
   "cell_type": "code",
   "execution_count": 36,
   "metadata": {},
   "outputs": [],
   "source": [
    "df['About']=df['About'].apply(lambda x: \" \".join(x))"
   ]
  },
  {
   "cell_type": "code",
   "execution_count": 37,
   "metadata": {},
   "outputs": [
    {
     "data": {
      "text/plain": [
       "array(['Centuries ago  mankind was slaughtered to near extinction by monstrous humanoid creatures called Titans  forcing humans to hide in fear behind enormous concentric walls. What makes these giants truly terrifying is that their taste for human flesh is not born out of hunger but what appears to be out of pleasure. To ensure their survival Action Drama Spring 2013 ProductionI.G Dentsu Finished Airing WitStudio TV 25.0 8.531  Shounen R-17+(violence&profanity)'],\n",
       "      dtype=object)"
      ]
     },
     "execution_count": 37,
     "metadata": {},
     "output_type": "execute_result"
    }
   ],
   "source": [
    "df.head(1)['About'].values"
   ]
  },
  {
   "cell_type": "markdown",
   "metadata": {},
   "source": [
    "TEXT VECTORIZATION .HERE AFTER APPLYING THE BAGS OF WORD METHOD I USE THE VECTORIZATION TECHNIQUE"
   ]
  },
  {
   "cell_type": "code",
   "execution_count": 38,
   "metadata": {},
   "outputs": [],
   "source": [
    "from sklearn.feature_extraction.text import CountVectorizer\n",
    "cv=CountVectorizer(max_features=5000,stop_words='english')"
   ]
  },
  {
   "cell_type": "code",
   "execution_count": 39,
   "metadata": {},
   "outputs": [],
   "source": [
    "vectors=cv.fit_transform(df['About']).toarray()"
   ]
  },
  {
   "cell_type": "code",
   "execution_count": 40,
   "metadata": {},
   "outputs": [
    {
     "data": {
      "text/plain": [
       "array([0, 0, 0, ..., 0, 0, 0], dtype=int64)"
      ]
     },
     "execution_count": 40,
     "metadata": {},
     "output_type": "execute_result"
    }
   ],
   "source": [
    "vectors[0]"
   ]
  },
  {
   "cell_type": "code",
   "execution_count": 41,
   "metadata": {},
   "outputs": [
    {
     "data": {
      "text/plain": [
       "array([[0, 0, 0, ..., 0, 0, 0],\n",
       "       [0, 0, 0, ..., 0, 0, 0],\n",
       "       [0, 0, 0, ..., 0, 0, 0],\n",
       "       ...,\n",
       "       [0, 0, 0, ..., 0, 0, 0],\n",
       "       [0, 0, 0, ..., 0, 0, 0],\n",
       "       [0, 0, 0, ..., 0, 0, 0]], dtype=int64)"
      ]
     },
     "execution_count": 41,
     "metadata": {},
     "output_type": "execute_result"
    }
   ],
   "source": [
    "vectors"
   ]
  },
  {
   "cell_type": "markdown",
   "metadata": {},
   "source": [
    "I USED THE COSINE SIMILARITY TO SEE THE SIMILARITY AMONG THE WORDS PRESENT IN MY ABOUT COLUMN DATA'S"
   ]
  },
  {
   "cell_type": "code",
   "execution_count": 42,
   "metadata": {},
   "outputs": [],
   "source": [
    "from sklearn.metrics.pairwise import cosine_similarity"
   ]
  },
  {
   "cell_type": "code",
   "execution_count": 56,
   "metadata": {},
   "outputs": [],
   "source": [
    "sim=cosine_similarity(vectors)"
   ]
  },
  {
   "cell_type": "code",
   "execution_count": 44,
   "metadata": {},
   "outputs": [
    {
     "data": {
      "text/plain": [
       "array([1.        , 0.29308032, 0.28242289, ..., 0.04417261, 0.05702659,\n",
       "       0.04763255])"
      ]
     },
     "execution_count": 44,
     "metadata": {},
     "output_type": "execute_result"
    }
   ],
   "source": [
    "sim[0]"
   ]
  },
  {
   "cell_type": "markdown",
   "metadata": {},
   "source": [
    "AFTER DOING THE VECTORIZATION YOU CAN SE THE ID NO. AND THE SIMILARIY PROPORTION OF THOSE ANIME WHICH IS SIMILAR TO THE FIRST ONE .."
   ]
  },
  {
   "cell_type": "code",
   "execution_count": 45,
   "metadata": {},
   "outputs": [
    {
     "data": {
      "text/plain": [
       "[(11, 0.4594229188737667),\n",
       " (1622, 0.44172610429938614),\n",
       " (17, 0.42074453508991083),\n",
       " (1676, 0.4166547104932136),\n",
       " (1454, 0.38413666267326807),\n",
       " (2117, 0.38413666267326807),\n",
       " (26, 0.3749701088039062),\n",
       " (214, 0.3749701088039062),\n",
       " (1244, 0.3606678538669729),\n",
       " (551, 0.34215956910732054)]"
      ]
     },
     "execution_count": 45,
     "metadata": {},
     "output_type": "execute_result"
    }
   ],
   "source": [
    "sorted(list(enumerate(sim[0])),reverse=True,key=lambda x:x[1])[1:11]"
   ]
  },
  {
   "cell_type": "markdown",
   "metadata": {},
   "source": [
    "HERE AFTER DOING THE ALL THING THE THE SIMILAR ANIME ACCODRING TO THE SEARCH ONE IS"
   ]
  },
  {
   "cell_type": "code",
   "execution_count": 46,
   "metadata": {},
   "outputs": [],
   "source": [
    "def recomnd(anime):\n",
    "    ani_index=df[df['English']==anime].index[0]\n",
    "    dis=sim[ani_index]\n",
    "    ani_list=sorted(list(enumerate(dis)),reverse=True,key=lambda x:x[1])[1:10]\n",
    "    \n",
    "    for i in ani_list:\n",
    "     print(df.iloc[i[0]].English)\n",
    "    "
   ]
  },
  {
   "cell_type": "code",
   "execution_count": 47,
   "metadata": {},
   "outputs": [
    {
     "data": {
      "text/plain": [
       "array(['Attack on Titan', 'Death Note', 'Fullmetal Alchemist Brotherhood',\n",
       "       ..., 'Unknown', 'Unknown', 'Unknown'], dtype=object)"
      ]
     },
     "execution_count": 47,
     "metadata": {},
     "output_type": "execute_result"
    }
   ],
   "source": [
    "df['English'].values"
   ]
  },
  {
   "cell_type": "markdown",
   "metadata": {},
   "source": [
    "EXAMPLE ARE HERE.."
   ]
  },
  {
   "cell_type": "code",
   "execution_count": 48,
   "metadata": {},
   "outputs": [
    {
     "name": "stdout",
     "output_type": "stream",
     "text": [
      "One Punch Man Season 2\n",
      "Unknown\n",
      "Drifters\n",
      "Black Lagoon The Second Barrage\n",
      "Juni Taisen Zodiac War\n",
      "Seraph of the End Battle in Nagoya\n",
      "Blood Blockade Battlefront\n",
      "Gangsta.\n",
      "Unlimited Psychic Squad\n"
     ]
    }
   ],
   "source": [
    "recomnd('One Punch Man')"
   ]
  },
  {
   "cell_type": "code",
   "execution_count": 49,
   "metadata": {},
   "outputs": [
    {
     "name": "stdout",
     "output_type": "stream",
     "text": [
      "Fullmetal Alchemist\n",
      "Goblin Slayer\n",
      "Galilei Donna Storia di tre sorelle a caccia di un mistero\n",
      "JoJo's Bizarre Adventure Golden Wind\n",
      "Rage of Bahamut Virgin Soul\n",
      "Attack on Titan Season 2\n",
      "Gangsta.\n",
      "No. 6\n",
      "JoJo's Bizarre Adventure Stardust Crusaders - Battle in Egypt\n"
     ]
    }
   ],
   "source": [
    "recomnd('Banana Fish')"
   ]
  },
  {
   "cell_type": "code",
   "execution_count": 50,
   "metadata": {},
   "outputs": [
    {
     "data": {
      "text/plain": [
       "'Seraph of the End Battle in Nagoya'"
      ]
     },
     "execution_count": 50,
     "metadata": {},
     "output_type": "execute_result"
    }
   ],
   "source": [
    "df.iloc[227].English"
   ]
  },
  {
   "cell_type": "code",
   "execution_count": 51,
   "metadata": {},
   "outputs": [
    {
     "data": {
      "text/plain": [
       "3"
      ]
     },
     "execution_count": 51,
     "metadata": {},
     "output_type": "execute_result"
    }
   ],
   "source": [
    "df[df['English']=='One Punch Man'].index[0]"
   ]
  },
  {
   "cell_type": "markdown",
   "metadata": {},
   "source": [
    "After that i dumped a the model by using joblib"
   ]
  },
  {
   "cell_type": "code",
   "execution_count": 52,
   "metadata": {},
   "outputs": [],
   "source": [
    "import joblib as j"
   ]
  },
  {
   "cell_type": "code",
   "execution_count": 53,
   "metadata": {},
   "outputs": [],
   "source": [
    "j.dump(df,open('anime_li','wb'))"
   ]
  },
  {
   "cell_type": "code",
   "execution_count": 54,
   "metadata": {},
   "outputs": [
    {
     "data": {
      "text/html": [
       "<div>\n",
       "<style scoped>\n",
       "    .dataframe tbody tr th:only-of-type {\n",
       "        vertical-align: middle;\n",
       "    }\n",
       "\n",
       "    .dataframe tbody tr th {\n",
       "        vertical-align: top;\n",
       "    }\n",
       "\n",
       "    .dataframe thead th {\n",
       "        text-align: right;\n",
       "    }\n",
       "</style>\n",
       "<table border=\"1\" class=\"dataframe\">\n",
       "  <thead>\n",
       "    <tr style=\"text-align: right;\">\n",
       "      <th></th>\n",
       "      <th>ID</th>\n",
       "      <th>English</th>\n",
       "      <th>About</th>\n",
       "    </tr>\n",
       "  </thead>\n",
       "  <tbody>\n",
       "    <tr>\n",
       "      <th>0</th>\n",
       "      <td>16498</td>\n",
       "      <td>Attack on Titan</td>\n",
       "      <td>Centuries ago  mankind was slaughtered to near...</td>\n",
       "    </tr>\n",
       "    <tr>\n",
       "      <th>1</th>\n",
       "      <td>1535</td>\n",
       "      <td>Death Note</td>\n",
       "      <td>Brutal murders  petty thefts  and senseless vi...</td>\n",
       "    </tr>\n",
       "    <tr>\n",
       "      <th>2</th>\n",
       "      <td>5114</td>\n",
       "      <td>Fullmetal Alchemist Brotherhood</td>\n",
       "      <td>After a horrific alchemy experiment goes wrong...</td>\n",
       "    </tr>\n",
       "    <tr>\n",
       "      <th>3</th>\n",
       "      <td>30276</td>\n",
       "      <td>One Punch Man</td>\n",
       "      <td>The seemingly unimpressive Saitama has a rathe...</td>\n",
       "    </tr>\n",
       "    <tr>\n",
       "      <th>4</th>\n",
       "      <td>11757</td>\n",
       "      <td>Sword Art Online</td>\n",
       "      <td>Ever since the release of the innovative Nerve...</td>\n",
       "    </tr>\n",
       "    <tr>\n",
       "      <th>...</th>\n",
       "      <td>...</td>\n",
       "      <td>...</td>\n",
       "      <td>...</td>\n",
       "    </tr>\n",
       "    <tr>\n",
       "      <th>12932</th>\n",
       "      <td>41763</td>\n",
       "      <td>O Light</td>\n",
       "      <td>Unknown Unknown Unknown Unknown Finished Airin...</td>\n",
       "    </tr>\n",
       "    <tr>\n",
       "      <th>12933</th>\n",
       "      <td>51893</td>\n",
       "      <td>Unknown</td>\n",
       "      <td>Animated music video for the song Mr. by YOASO...</td>\n",
       "    </tr>\n",
       "    <tr>\n",
       "      <th>12934</th>\n",
       "      <td>41308</td>\n",
       "      <td>Unknown</td>\n",
       "      <td>Greenlights Serenade is an original song by Om...</td>\n",
       "    </tr>\n",
       "    <tr>\n",
       "      <th>12935</th>\n",
       "      <td>51573</td>\n",
       "      <td>Unknown</td>\n",
       "      <td>Music video for the song Heart Beat by AZKi. U...</td>\n",
       "    </tr>\n",
       "    <tr>\n",
       "      <th>12936</th>\n",
       "      <td>52454</td>\n",
       "      <td>Unknown</td>\n",
       "      <td>Unknown Unknown Unknown Unknown Finished Airin...</td>\n",
       "    </tr>\n",
       "  </tbody>\n",
       "</table>\n",
       "<p>12937 rows × 3 columns</p>\n",
       "</div>"
      ],
      "text/plain": [
       "          ID                          English  \\\n",
       "0      16498                  Attack on Titan   \n",
       "1       1535                       Death Note   \n",
       "2       5114  Fullmetal Alchemist Brotherhood   \n",
       "3      30276                    One Punch Man   \n",
       "4      11757                 Sword Art Online   \n",
       "...      ...                              ...   \n",
       "12932  41763                          O Light   \n",
       "12933  51893                          Unknown   \n",
       "12934  41308                          Unknown   \n",
       "12935  51573                          Unknown   \n",
       "12936  52454                          Unknown   \n",
       "\n",
       "                                                   About  \n",
       "0      Centuries ago  mankind was slaughtered to near...  \n",
       "1      Brutal murders  petty thefts  and senseless vi...  \n",
       "2      After a horrific alchemy experiment goes wrong...  \n",
       "3      The seemingly unimpressive Saitama has a rathe...  \n",
       "4      Ever since the release of the innovative Nerve...  \n",
       "...                                                  ...  \n",
       "12932  Unknown Unknown Unknown Unknown Finished Airin...  \n",
       "12933  Animated music video for the song Mr. by YOASO...  \n",
       "12934  Greenlights Serenade is an original song by Om...  \n",
       "12935  Music video for the song Heart Beat by AZKi. U...  \n",
       "12936  Unknown Unknown Unknown Unknown Finished Airin...  \n",
       "\n",
       "[12937 rows x 3 columns]"
      ]
     },
     "execution_count": 54,
     "metadata": {},
     "output_type": "execute_result"
    }
   ],
   "source": [
    "df"
   ]
  },
  {
   "cell_type": "code",
   "execution_count": 57,
   "metadata": {},
   "outputs": [],
   "source": [
    "j.dump(sim,open('similarity','wb'))"
   ]
  },
  {
   "cell_type": "code",
   "execution_count": null,
   "metadata": {},
   "outputs": [],
   "source": []
  }
 ],
 "metadata": {
  "kernelspec": {
   "display_name": "Python 3 (ipykernel)",
   "language": "python",
   "name": "python3"
  },
  "language_info": {
   "codemirror_mode": {
    "name": "ipython",
    "version": 3
   },
   "file_extension": ".py",
   "mimetype": "text/x-python",
   "name": "python",
   "nbconvert_exporter": "python",
   "pygments_lexer": "ipython3",
   "version": "3.11.7"
  }
 },
 "nbformat": 4,
 "nbformat_minor": 4
}
